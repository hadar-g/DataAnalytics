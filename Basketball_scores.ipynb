{
  "nbformat": 4,
  "nbformat_minor": 0,
  "metadata": {
    "colab": {
      "name": "Basketball scores",
      "provenance": [],
      "collapsed_sections": [],
      "authorship_tag": "ABX9TyP/9lPI9/P+w6xjJ/pL5CMn",
      "include_colab_link": true
    },
    "kernelspec": {
      "name": "python3",
      "display_name": "Python 3"
    },
    "language_info": {
      "name": "python"
    }
  },
  "cells": [
    {
      "cell_type": "markdown",
      "metadata": {
        "id": "view-in-github",
        "colab_type": "text"
      },
      "source": [
        "<a href=\"https://colab.research.google.com/github/hadar-g/DataAnalytics/blob/main/Basketball_scores.ipynb\" target=\"_parent\"><img src=\"https://colab.research.google.com/assets/colab-badge.svg\" alt=\"Open In Colab\"/></a>"
      ]
    },
    {
      "cell_type": "markdown",
      "source": [
        "# In this project I want to analyze data on score margins during basketball games\n",
        "that is the difference between the two teams scores after every given play. As a Warriors fan my data will be made up of warriors 2022 playoffs games, but the methods can be used for any tea"
      ],
      "metadata": {
        "id": "Ru7hdhsfNLBz"
      }
    },
    {
      "cell_type": "code",
      "source": [
        "pip install nba_api\n"
      ],
      "metadata": {
        "id": "hXggfwyl2ISc"
      },
      "execution_count": null,
      "outputs": []
    },
    {
      "cell_type": "markdown",
      "source": [
        "Now I'm importing all the packages I will need"
      ],
      "metadata": {
        "id": "jgmGb1UlQMhc"
      }
    },
    {
      "cell_type": "code",
      "source": [
        "from nba_api.stats.endpoints import leaguegamefinder\n",
        "from nba_api.stats.endpoints import playbyplay\n",
        "from nba_api.stats.static import teams\n",
        "import pandas as pd\n",
        "import numpy as np\n",
        "import matplotlib.pyplot as plt"
      ],
      "metadata": {
        "id": "ohrhIdnaSV6k"
      },
      "execution_count": 22,
      "outputs": []
    },
    {
      "cell_type": "markdown",
      "source": [
        "First I want to look at **team data** and pull out the ID we will need to Identify Golden State Warriors Games"
      ],
      "metadata": {
        "id": "H2arzob2G5ip"
      }
    },
    {
      "cell_type": "code",
      "source": [
        "nba_teams = pd.DataFrame(teams.get_teams())\n",
        "nba_teams.head(8)"
      ],
      "metadata": {
        "colab": {
          "base_uri": "https://localhost:8080/",
          "height": 300
        },
        "id": "dv9yvJ-4G_9y",
        "outputId": "5ee824b7-83e9-46a8-a836-5f08cdfb2376"
      },
      "execution_count": 5,
      "outputs": [
        {
          "output_type": "execute_result",
          "data": {
            "text/plain": [
              "           id              full_name abbreviation   nickname          city  \\\n",
              "0  1610612737          Atlanta Hawks          ATL      Hawks       Atlanta   \n",
              "1  1610612738         Boston Celtics          BOS    Celtics        Boston   \n",
              "2  1610612739    Cleveland Cavaliers          CLE  Cavaliers     Cleveland   \n",
              "3  1610612740   New Orleans Pelicans          NOP   Pelicans   New Orleans   \n",
              "4  1610612741          Chicago Bulls          CHI      Bulls       Chicago   \n",
              "5  1610612742       Dallas Mavericks          DAL  Mavericks        Dallas   \n",
              "6  1610612743         Denver Nuggets          DEN    Nuggets        Denver   \n",
              "7  1610612744  Golden State Warriors          GSW   Warriors  Golden State   \n",
              "\n",
              "           state  year_founded  \n",
              "0        Atlanta          1949  \n",
              "1  Massachusetts          1946  \n",
              "2           Ohio          1970  \n",
              "3      Louisiana          2002  \n",
              "4       Illinois          1966  \n",
              "5          Texas          1980  \n",
              "6       Colorado          1976  \n",
              "7     California          1946  "
            ],
            "text/html": [
              "\n",
              "  <div id=\"df-aaea5bd1-f3f9-4d78-b7fd-579e0ede57c5\">\n",
              "    <div class=\"colab-df-container\">\n",
              "      <div>\n",
              "<style scoped>\n",
              "    .dataframe tbody tr th:only-of-type {\n",
              "        vertical-align: middle;\n",
              "    }\n",
              "\n",
              "    .dataframe tbody tr th {\n",
              "        vertical-align: top;\n",
              "    }\n",
              "\n",
              "    .dataframe thead th {\n",
              "        text-align: right;\n",
              "    }\n",
              "</style>\n",
              "<table border=\"1\" class=\"dataframe\">\n",
              "  <thead>\n",
              "    <tr style=\"text-align: right;\">\n",
              "      <th></th>\n",
              "      <th>id</th>\n",
              "      <th>full_name</th>\n",
              "      <th>abbreviation</th>\n",
              "      <th>nickname</th>\n",
              "      <th>city</th>\n",
              "      <th>state</th>\n",
              "      <th>year_founded</th>\n",
              "    </tr>\n",
              "  </thead>\n",
              "  <tbody>\n",
              "    <tr>\n",
              "      <th>0</th>\n",
              "      <td>1610612737</td>\n",
              "      <td>Atlanta Hawks</td>\n",
              "      <td>ATL</td>\n",
              "      <td>Hawks</td>\n",
              "      <td>Atlanta</td>\n",
              "      <td>Atlanta</td>\n",
              "      <td>1949</td>\n",
              "    </tr>\n",
              "    <tr>\n",
              "      <th>1</th>\n",
              "      <td>1610612738</td>\n",
              "      <td>Boston Celtics</td>\n",
              "      <td>BOS</td>\n",
              "      <td>Celtics</td>\n",
              "      <td>Boston</td>\n",
              "      <td>Massachusetts</td>\n",
              "      <td>1946</td>\n",
              "    </tr>\n",
              "    <tr>\n",
              "      <th>2</th>\n",
              "      <td>1610612739</td>\n",
              "      <td>Cleveland Cavaliers</td>\n",
              "      <td>CLE</td>\n",
              "      <td>Cavaliers</td>\n",
              "      <td>Cleveland</td>\n",
              "      <td>Ohio</td>\n",
              "      <td>1970</td>\n",
              "    </tr>\n",
              "    <tr>\n",
              "      <th>3</th>\n",
              "      <td>1610612740</td>\n",
              "      <td>New Orleans Pelicans</td>\n",
              "      <td>NOP</td>\n",
              "      <td>Pelicans</td>\n",
              "      <td>New Orleans</td>\n",
              "      <td>Louisiana</td>\n",
              "      <td>2002</td>\n",
              "    </tr>\n",
              "    <tr>\n",
              "      <th>4</th>\n",
              "      <td>1610612741</td>\n",
              "      <td>Chicago Bulls</td>\n",
              "      <td>CHI</td>\n",
              "      <td>Bulls</td>\n",
              "      <td>Chicago</td>\n",
              "      <td>Illinois</td>\n",
              "      <td>1966</td>\n",
              "    </tr>\n",
              "    <tr>\n",
              "      <th>5</th>\n",
              "      <td>1610612742</td>\n",
              "      <td>Dallas Mavericks</td>\n",
              "      <td>DAL</td>\n",
              "      <td>Mavericks</td>\n",
              "      <td>Dallas</td>\n",
              "      <td>Texas</td>\n",
              "      <td>1980</td>\n",
              "    </tr>\n",
              "    <tr>\n",
              "      <th>6</th>\n",
              "      <td>1610612743</td>\n",
              "      <td>Denver Nuggets</td>\n",
              "      <td>DEN</td>\n",
              "      <td>Nuggets</td>\n",
              "      <td>Denver</td>\n",
              "      <td>Colorado</td>\n",
              "      <td>1976</td>\n",
              "    </tr>\n",
              "    <tr>\n",
              "      <th>7</th>\n",
              "      <td>1610612744</td>\n",
              "      <td>Golden State Warriors</td>\n",
              "      <td>GSW</td>\n",
              "      <td>Warriors</td>\n",
              "      <td>Golden State</td>\n",
              "      <td>California</td>\n",
              "      <td>1946</td>\n",
              "    </tr>\n",
              "  </tbody>\n",
              "</table>\n",
              "</div>\n",
              "      <button class=\"colab-df-convert\" onclick=\"convertToInteractive('df-aaea5bd1-f3f9-4d78-b7fd-579e0ede57c5')\"\n",
              "              title=\"Convert this dataframe to an interactive table.\"\n",
              "              style=\"display:none;\">\n",
              "        \n",
              "  <svg xmlns=\"http://www.w3.org/2000/svg\" height=\"24px\"viewBox=\"0 0 24 24\"\n",
              "       width=\"24px\">\n",
              "    <path d=\"M0 0h24v24H0V0z\" fill=\"none\"/>\n",
              "    <path d=\"M18.56 5.44l.94 2.06.94-2.06 2.06-.94-2.06-.94-.94-2.06-.94 2.06-2.06.94zm-11 1L8.5 8.5l.94-2.06 2.06-.94-2.06-.94L8.5 2.5l-.94 2.06-2.06.94zm10 10l.94 2.06.94-2.06 2.06-.94-2.06-.94-.94-2.06-.94 2.06-2.06.94z\"/><path d=\"M17.41 7.96l-1.37-1.37c-.4-.4-.92-.59-1.43-.59-.52 0-1.04.2-1.43.59L10.3 9.45l-7.72 7.72c-.78.78-.78 2.05 0 2.83L4 21.41c.39.39.9.59 1.41.59.51 0 1.02-.2 1.41-.59l7.78-7.78 2.81-2.81c.8-.78.8-2.07 0-2.86zM5.41 20L4 18.59l7.72-7.72 1.47 1.35L5.41 20z\"/>\n",
              "  </svg>\n",
              "      </button>\n",
              "      \n",
              "  <style>\n",
              "    .colab-df-container {\n",
              "      display:flex;\n",
              "      flex-wrap:wrap;\n",
              "      gap: 12px;\n",
              "    }\n",
              "\n",
              "    .colab-df-convert {\n",
              "      background-color: #E8F0FE;\n",
              "      border: none;\n",
              "      border-radius: 50%;\n",
              "      cursor: pointer;\n",
              "      display: none;\n",
              "      fill: #1967D2;\n",
              "      height: 32px;\n",
              "      padding: 0 0 0 0;\n",
              "      width: 32px;\n",
              "    }\n",
              "\n",
              "    .colab-df-convert:hover {\n",
              "      background-color: #E2EBFA;\n",
              "      box-shadow: 0px 1px 2px rgba(60, 64, 67, 0.3), 0px 1px 3px 1px rgba(60, 64, 67, 0.15);\n",
              "      fill: #174EA6;\n",
              "    }\n",
              "\n",
              "    [theme=dark] .colab-df-convert {\n",
              "      background-color: #3B4455;\n",
              "      fill: #D2E3FC;\n",
              "    }\n",
              "\n",
              "    [theme=dark] .colab-df-convert:hover {\n",
              "      background-color: #434B5C;\n",
              "      box-shadow: 0px 1px 3px 1px rgba(0, 0, 0, 0.15);\n",
              "      filter: drop-shadow(0px 1px 2px rgba(0, 0, 0, 0.3));\n",
              "      fill: #FFFFFF;\n",
              "    }\n",
              "  </style>\n",
              "\n",
              "      <script>\n",
              "        const buttonEl =\n",
              "          document.querySelector('#df-aaea5bd1-f3f9-4d78-b7fd-579e0ede57c5 button.colab-df-convert');\n",
              "        buttonEl.style.display =\n",
              "          google.colab.kernel.accessAllowed ? 'block' : 'none';\n",
              "\n",
              "        async function convertToInteractive(key) {\n",
              "          const element = document.querySelector('#df-aaea5bd1-f3f9-4d78-b7fd-579e0ede57c5');\n",
              "          const dataTable =\n",
              "            await google.colab.kernel.invokeFunction('convertToInteractive',\n",
              "                                                     [key], {});\n",
              "          if (!dataTable) return;\n",
              "\n",
              "          const docLinkHtml = 'Like what you see? Visit the ' +\n",
              "            '<a target=\"_blank\" href=https://colab.research.google.com/notebooks/data_table.ipynb>data table notebook</a>'\n",
              "            + ' to learn more about interactive tables.';\n",
              "          element.innerHTML = '';\n",
              "          dataTable['output_type'] = 'display_data';\n",
              "          await google.colab.output.renderOutput(dataTable, element);\n",
              "          const docLink = document.createElement('div');\n",
              "          docLink.innerHTML = docLinkHtml;\n",
              "          element.appendChild(docLink);\n",
              "        }\n",
              "      </script>\n",
              "    </div>\n",
              "  </div>\n",
              "  "
            ]
          },
          "metadata": {},
          "execution_count": 5
        }
      ]
    },
    {
      "cell_type": "markdown",
      "source": [
        "So we can see that *GSW* are 7th down there and have a unique id so I'll assign a variable to that"
      ],
      "metadata": {
        "id": "YFobLm7THBxv"
      }
    },
    {
      "cell_type": "code",
      "source": [
        "GSW_Id = nba_teams.at[7,  \"id\"]"
      ],
      "metadata": {
        "id": "sJnSJJdQHLN0"
      },
      "execution_count": 6,
      "outputs": []
    },
    {
      "cell_type": "markdown",
      "source": [
        "Now I'm going to use the *Leaguegamefinder* provided by the API to take a look at all the warriors playoffs games so far this season\n",
        " "
      ],
      "metadata": {
        "id": "d0tWNpcbHQ2b"
      }
    },
    {
      "cell_type": "code",
      "source": [
        "GSW_Games = leaguegamefinder.LeagueGameFinder(season_nullable='2021-22', \n",
        "                                              league_id_nullable='00', \n",
        "                                              season_type_nullable='Playoffs',\n",
        "                                              team_id_nullable=GSW_Id).get_data_frames()[0]\n",
        "GSW_Games.head(10)                                           "
      ],
      "metadata": {
        "id": "mlDuWD1vdqov",
        "colab": {
          "base_uri": "https://localhost:8080/",
          "height": 361
        },
        "outputId": "4a0a21de-8442-4909-e3f4-01cc8b90b772"
      },
      "execution_count": 205,
      "outputs": [
        {
          "output_type": "execute_result",
          "data": {
            "text/plain": [
              "  SEASON_ID     TEAM_ID TEAM_ABBREVIATION              TEAM_NAME     GAME_ID  \\\n",
              "0     42021  1610612744               GSW  Golden State Warriors  0042100234   \n",
              "1     42021  1610612744               GSW  Golden State Warriors  0042100233   \n",
              "2     42021  1610612744               GSW  Golden State Warriors  0042100232   \n",
              "3     42021  1610612744               GSW  Golden State Warriors  0042100231   \n",
              "4     42021  1610612744               GSW  Golden State Warriors  0042100165   \n",
              "5     42021  1610612744               GSW  Golden State Warriors  0042100164   \n",
              "6     42021  1610612744               GSW  Golden State Warriors  0042100163   \n",
              "7     42021  1610612744               GSW  Golden State Warriors  0042100162   \n",
              "8     42021  1610612744               GSW  Golden State Warriors  0042100161   \n",
              "\n",
              "    GAME_DATE      MATCHUP WL  MIN  PTS  ...  FT_PCT  OREB  DREB  REB  AST  \\\n",
              "0  2022-05-09  GSW vs. MEM  W  239  101  ...   0.909    10    44   54   25   \n",
              "1  2022-05-07  GSW vs. MEM  W  241  142  ...   0.905     4    34   38   34   \n",
              "2  2022-05-03    GSW @ MEM  L  239  101  ...   0.778    14    38   52   27   \n",
              "3  2022-05-01    GSW @ MEM  W  239  117  ...   0.650    16    36   52   31   \n",
              "4  2022-04-27  GSW vs. DEN  W  241  102  ...   0.714     6    31   37   28   \n",
              "5  2022-04-24    GSW @ DEN  L  241  121  ...   0.719     9    27   36   26   \n",
              "6  2022-04-21    GSW @ DEN  W  239  118  ...   0.643     4    26   30   29   \n",
              "7  2022-04-18  GSW vs. DEN  W  241  126  ...   0.708     6    29   35   27   \n",
              "8  2022-04-16  GSW vs. DEN  W  241  123  ...   0.724    10    29   39   33   \n",
              "\n",
              "   STL  BLK  TOV  PF  PLUS_MINUS  \n",
              "0    6    7   16  15         3.0  \n",
              "1    5    4   16  24        30.0  \n",
              "2    6    2   18  20        -5.0  \n",
              "3   10    6   18  25         1.0  \n",
              "4   10    6    9  22         4.0  \n",
              "5   15    3   15  27        -5.0  \n",
              "6    7    6   16  25         5.0  \n",
              "7   10    8    9  20        20.0  \n",
              "8    5    7   12  22        16.0  \n",
              "\n",
              "[9 rows x 28 columns]"
            ],
            "text/html": [
              "\n",
              "  <div id=\"df-83347eba-a5a2-47cf-9bbf-64514f31cc15\">\n",
              "    <div class=\"colab-df-container\">\n",
              "      <div>\n",
              "<style scoped>\n",
              "    .dataframe tbody tr th:only-of-type {\n",
              "        vertical-align: middle;\n",
              "    }\n",
              "\n",
              "    .dataframe tbody tr th {\n",
              "        vertical-align: top;\n",
              "    }\n",
              "\n",
              "    .dataframe thead th {\n",
              "        text-align: right;\n",
              "    }\n",
              "</style>\n",
              "<table border=\"1\" class=\"dataframe\">\n",
              "  <thead>\n",
              "    <tr style=\"text-align: right;\">\n",
              "      <th></th>\n",
              "      <th>SEASON_ID</th>\n",
              "      <th>TEAM_ID</th>\n",
              "      <th>TEAM_ABBREVIATION</th>\n",
              "      <th>TEAM_NAME</th>\n",
              "      <th>GAME_ID</th>\n",
              "      <th>GAME_DATE</th>\n",
              "      <th>MATCHUP</th>\n",
              "      <th>WL</th>\n",
              "      <th>MIN</th>\n",
              "      <th>PTS</th>\n",
              "      <th>...</th>\n",
              "      <th>FT_PCT</th>\n",
              "      <th>OREB</th>\n",
              "      <th>DREB</th>\n",
              "      <th>REB</th>\n",
              "      <th>AST</th>\n",
              "      <th>STL</th>\n",
              "      <th>BLK</th>\n",
              "      <th>TOV</th>\n",
              "      <th>PF</th>\n",
              "      <th>PLUS_MINUS</th>\n",
              "    </tr>\n",
              "  </thead>\n",
              "  <tbody>\n",
              "    <tr>\n",
              "      <th>0</th>\n",
              "      <td>42021</td>\n",
              "      <td>1610612744</td>\n",
              "      <td>GSW</td>\n",
              "      <td>Golden State Warriors</td>\n",
              "      <td>0042100234</td>\n",
              "      <td>2022-05-09</td>\n",
              "      <td>GSW vs. MEM</td>\n",
              "      <td>W</td>\n",
              "      <td>239</td>\n",
              "      <td>101</td>\n",
              "      <td>...</td>\n",
              "      <td>0.909</td>\n",
              "      <td>10</td>\n",
              "      <td>44</td>\n",
              "      <td>54</td>\n",
              "      <td>25</td>\n",
              "      <td>6</td>\n",
              "      <td>7</td>\n",
              "      <td>16</td>\n",
              "      <td>15</td>\n",
              "      <td>3.0</td>\n",
              "    </tr>\n",
              "    <tr>\n",
              "      <th>1</th>\n",
              "      <td>42021</td>\n",
              "      <td>1610612744</td>\n",
              "      <td>GSW</td>\n",
              "      <td>Golden State Warriors</td>\n",
              "      <td>0042100233</td>\n",
              "      <td>2022-05-07</td>\n",
              "      <td>GSW vs. MEM</td>\n",
              "      <td>W</td>\n",
              "      <td>241</td>\n",
              "      <td>142</td>\n",
              "      <td>...</td>\n",
              "      <td>0.905</td>\n",
              "      <td>4</td>\n",
              "      <td>34</td>\n",
              "      <td>38</td>\n",
              "      <td>34</td>\n",
              "      <td>5</td>\n",
              "      <td>4</td>\n",
              "      <td>16</td>\n",
              "      <td>24</td>\n",
              "      <td>30.0</td>\n",
              "    </tr>\n",
              "    <tr>\n",
              "      <th>2</th>\n",
              "      <td>42021</td>\n",
              "      <td>1610612744</td>\n",
              "      <td>GSW</td>\n",
              "      <td>Golden State Warriors</td>\n",
              "      <td>0042100232</td>\n",
              "      <td>2022-05-03</td>\n",
              "      <td>GSW @ MEM</td>\n",
              "      <td>L</td>\n",
              "      <td>239</td>\n",
              "      <td>101</td>\n",
              "      <td>...</td>\n",
              "      <td>0.778</td>\n",
              "      <td>14</td>\n",
              "      <td>38</td>\n",
              "      <td>52</td>\n",
              "      <td>27</td>\n",
              "      <td>6</td>\n",
              "      <td>2</td>\n",
              "      <td>18</td>\n",
              "      <td>20</td>\n",
              "      <td>-5.0</td>\n",
              "    </tr>\n",
              "    <tr>\n",
              "      <th>3</th>\n",
              "      <td>42021</td>\n",
              "      <td>1610612744</td>\n",
              "      <td>GSW</td>\n",
              "      <td>Golden State Warriors</td>\n",
              "      <td>0042100231</td>\n",
              "      <td>2022-05-01</td>\n",
              "      <td>GSW @ MEM</td>\n",
              "      <td>W</td>\n",
              "      <td>239</td>\n",
              "      <td>117</td>\n",
              "      <td>...</td>\n",
              "      <td>0.650</td>\n",
              "      <td>16</td>\n",
              "      <td>36</td>\n",
              "      <td>52</td>\n",
              "      <td>31</td>\n",
              "      <td>10</td>\n",
              "      <td>6</td>\n",
              "      <td>18</td>\n",
              "      <td>25</td>\n",
              "      <td>1.0</td>\n",
              "    </tr>\n",
              "    <tr>\n",
              "      <th>4</th>\n",
              "      <td>42021</td>\n",
              "      <td>1610612744</td>\n",
              "      <td>GSW</td>\n",
              "      <td>Golden State Warriors</td>\n",
              "      <td>0042100165</td>\n",
              "      <td>2022-04-27</td>\n",
              "      <td>GSW vs. DEN</td>\n",
              "      <td>W</td>\n",
              "      <td>241</td>\n",
              "      <td>102</td>\n",
              "      <td>...</td>\n",
              "      <td>0.714</td>\n",
              "      <td>6</td>\n",
              "      <td>31</td>\n",
              "      <td>37</td>\n",
              "      <td>28</td>\n",
              "      <td>10</td>\n",
              "      <td>6</td>\n",
              "      <td>9</td>\n",
              "      <td>22</td>\n",
              "      <td>4.0</td>\n",
              "    </tr>\n",
              "    <tr>\n",
              "      <th>5</th>\n",
              "      <td>42021</td>\n",
              "      <td>1610612744</td>\n",
              "      <td>GSW</td>\n",
              "      <td>Golden State Warriors</td>\n",
              "      <td>0042100164</td>\n",
              "      <td>2022-04-24</td>\n",
              "      <td>GSW @ DEN</td>\n",
              "      <td>L</td>\n",
              "      <td>241</td>\n",
              "      <td>121</td>\n",
              "      <td>...</td>\n",
              "      <td>0.719</td>\n",
              "      <td>9</td>\n",
              "      <td>27</td>\n",
              "      <td>36</td>\n",
              "      <td>26</td>\n",
              "      <td>15</td>\n",
              "      <td>3</td>\n",
              "      <td>15</td>\n",
              "      <td>27</td>\n",
              "      <td>-5.0</td>\n",
              "    </tr>\n",
              "    <tr>\n",
              "      <th>6</th>\n",
              "      <td>42021</td>\n",
              "      <td>1610612744</td>\n",
              "      <td>GSW</td>\n",
              "      <td>Golden State Warriors</td>\n",
              "      <td>0042100163</td>\n",
              "      <td>2022-04-21</td>\n",
              "      <td>GSW @ DEN</td>\n",
              "      <td>W</td>\n",
              "      <td>239</td>\n",
              "      <td>118</td>\n",
              "      <td>...</td>\n",
              "      <td>0.643</td>\n",
              "      <td>4</td>\n",
              "      <td>26</td>\n",
              "      <td>30</td>\n",
              "      <td>29</td>\n",
              "      <td>7</td>\n",
              "      <td>6</td>\n",
              "      <td>16</td>\n",
              "      <td>25</td>\n",
              "      <td>5.0</td>\n",
              "    </tr>\n",
              "    <tr>\n",
              "      <th>7</th>\n",
              "      <td>42021</td>\n",
              "      <td>1610612744</td>\n",
              "      <td>GSW</td>\n",
              "      <td>Golden State Warriors</td>\n",
              "      <td>0042100162</td>\n",
              "      <td>2022-04-18</td>\n",
              "      <td>GSW vs. DEN</td>\n",
              "      <td>W</td>\n",
              "      <td>241</td>\n",
              "      <td>126</td>\n",
              "      <td>...</td>\n",
              "      <td>0.708</td>\n",
              "      <td>6</td>\n",
              "      <td>29</td>\n",
              "      <td>35</td>\n",
              "      <td>27</td>\n",
              "      <td>10</td>\n",
              "      <td>8</td>\n",
              "      <td>9</td>\n",
              "      <td>20</td>\n",
              "      <td>20.0</td>\n",
              "    </tr>\n",
              "    <tr>\n",
              "      <th>8</th>\n",
              "      <td>42021</td>\n",
              "      <td>1610612744</td>\n",
              "      <td>GSW</td>\n",
              "      <td>Golden State Warriors</td>\n",
              "      <td>0042100161</td>\n",
              "      <td>2022-04-16</td>\n",
              "      <td>GSW vs. DEN</td>\n",
              "      <td>W</td>\n",
              "      <td>241</td>\n",
              "      <td>123</td>\n",
              "      <td>...</td>\n",
              "      <td>0.724</td>\n",
              "      <td>10</td>\n",
              "      <td>29</td>\n",
              "      <td>39</td>\n",
              "      <td>33</td>\n",
              "      <td>5</td>\n",
              "      <td>7</td>\n",
              "      <td>12</td>\n",
              "      <td>22</td>\n",
              "      <td>16.0</td>\n",
              "    </tr>\n",
              "  </tbody>\n",
              "</table>\n",
              "<p>9 rows × 28 columns</p>\n",
              "</div>\n",
              "      <button class=\"colab-df-convert\" onclick=\"convertToInteractive('df-83347eba-a5a2-47cf-9bbf-64514f31cc15')\"\n",
              "              title=\"Convert this dataframe to an interactive table.\"\n",
              "              style=\"display:none;\">\n",
              "        \n",
              "  <svg xmlns=\"http://www.w3.org/2000/svg\" height=\"24px\"viewBox=\"0 0 24 24\"\n",
              "       width=\"24px\">\n",
              "    <path d=\"M0 0h24v24H0V0z\" fill=\"none\"/>\n",
              "    <path d=\"M18.56 5.44l.94 2.06.94-2.06 2.06-.94-2.06-.94-.94-2.06-.94 2.06-2.06.94zm-11 1L8.5 8.5l.94-2.06 2.06-.94-2.06-.94L8.5 2.5l-.94 2.06-2.06.94zm10 10l.94 2.06.94-2.06 2.06-.94-2.06-.94-.94-2.06-.94 2.06-2.06.94z\"/><path d=\"M17.41 7.96l-1.37-1.37c-.4-.4-.92-.59-1.43-.59-.52 0-1.04.2-1.43.59L10.3 9.45l-7.72 7.72c-.78.78-.78 2.05 0 2.83L4 21.41c.39.39.9.59 1.41.59.51 0 1.02-.2 1.41-.59l7.78-7.78 2.81-2.81c.8-.78.8-2.07 0-2.86zM5.41 20L4 18.59l7.72-7.72 1.47 1.35L5.41 20z\"/>\n",
              "  </svg>\n",
              "      </button>\n",
              "      \n",
              "  <style>\n",
              "    .colab-df-container {\n",
              "      display:flex;\n",
              "      flex-wrap:wrap;\n",
              "      gap: 12px;\n",
              "    }\n",
              "\n",
              "    .colab-df-convert {\n",
              "      background-color: #E8F0FE;\n",
              "      border: none;\n",
              "      border-radius: 50%;\n",
              "      cursor: pointer;\n",
              "      display: none;\n",
              "      fill: #1967D2;\n",
              "      height: 32px;\n",
              "      padding: 0 0 0 0;\n",
              "      width: 32px;\n",
              "    }\n",
              "\n",
              "    .colab-df-convert:hover {\n",
              "      background-color: #E2EBFA;\n",
              "      box-shadow: 0px 1px 2px rgba(60, 64, 67, 0.3), 0px 1px 3px 1px rgba(60, 64, 67, 0.15);\n",
              "      fill: #174EA6;\n",
              "    }\n",
              "\n",
              "    [theme=dark] .colab-df-convert {\n",
              "      background-color: #3B4455;\n",
              "      fill: #D2E3FC;\n",
              "    }\n",
              "\n",
              "    [theme=dark] .colab-df-convert:hover {\n",
              "      background-color: #434B5C;\n",
              "      box-shadow: 0px 1px 3px 1px rgba(0, 0, 0, 0.15);\n",
              "      filter: drop-shadow(0px 1px 2px rgba(0, 0, 0, 0.3));\n",
              "      fill: #FFFFFF;\n",
              "    }\n",
              "  </style>\n",
              "\n",
              "      <script>\n",
              "        const buttonEl =\n",
              "          document.querySelector('#df-83347eba-a5a2-47cf-9bbf-64514f31cc15 button.colab-df-convert');\n",
              "        buttonEl.style.display =\n",
              "          google.colab.kernel.accessAllowed ? 'block' : 'none';\n",
              "\n",
              "        async function convertToInteractive(key) {\n",
              "          const element = document.querySelector('#df-83347eba-a5a2-47cf-9bbf-64514f31cc15');\n",
              "          const dataTable =\n",
              "            await google.colab.kernel.invokeFunction('convertToInteractive',\n",
              "                                                     [key], {});\n",
              "          if (!dataTable) return;\n",
              "\n",
              "          const docLinkHtml = 'Like what you see? Visit the ' +\n",
              "            '<a target=\"_blank\" href=https://colab.research.google.com/notebooks/data_table.ipynb>data table notebook</a>'\n",
              "            + ' to learn more about interactive tables.';\n",
              "          element.innerHTML = '';\n",
              "          dataTable['output_type'] = 'display_data';\n",
              "          await google.colab.output.renderOutput(dataTable, element);\n",
              "          const docLink = document.createElement('div');\n",
              "          docLink.innerHTML = docLinkHtml;\n",
              "          element.appendChild(docLink);\n",
              "        }\n",
              "      </script>\n",
              "    </div>\n",
              "  </div>\n",
              "  "
            ]
          },
          "metadata": {},
          "execution_count": 205
        }
      ]
    },
    {
      "cell_type": "markdown",
      "source": [
        "Let's pull out the game ID for their third game against memphis because come on, who didn't love watching that game"
      ],
      "metadata": {
        "id": "20nkahdAIDhM"
      }
    },
    {
      "cell_type": "code",
      "source": [
        "game_id = GSW_Games.at[1, \"GAME_ID\"]"
      ],
      "metadata": {
        "id": "yqn5LvqlT8rQ"
      },
      "execution_count": 9,
      "outputs": []
    },
    {
      "cell_type": "markdown",
      "source": [
        "I don't know if this is the best method to do this since they seem to push the games to the front so the game id will get shifted later but we'll worry about that another time"
      ],
      "metadata": {
        "id": "vWZ7nUJLIK-f"
      }
    },
    {
      "cell_type": "markdown",
      "source": [
        "now we're going to use the *playbyplay* library provided by the api"
      ],
      "metadata": {
        "id": "Sbp2p1jzIVY6"
      }
    },
    {
      "cell_type": "code",
      "source": [
        "pbp =playbyplay.PlayByPlay(game_id).get_data_frames()[0]\n",
        "pbp.head()"
      ],
      "metadata": {
        "colab": {
          "base_uri": "https://localhost:8080/",
          "height": 337
        },
        "id": "4SZcK38BIaYq",
        "outputId": "35ec988a-adcc-4d38-ec75-35fe44cc8b0a"
      },
      "execution_count": 200,
      "outputs": [
        {
          "output_type": "execute_result",
          "data": {
            "text/plain": [
              "      GAME_ID  EVENTNUM  EVENTMSGTYPE  EVENTMSGACTIONTYPE  PERIOD  \\\n",
              "0  0042100233         2            12                   0       1   \n",
              "1  0042100233         4            10                   0       1   \n",
              "2  0042100233         7             1                   1       1   \n",
              "3  0042100233         9             5                   1       1   \n",
              "4  0042100233        11             2                  79       1   \n",
              "\n",
              "  WCTIMESTRING PCTIMESTRING                                 HOMEDESCRIPTION  \\\n",
              "0      8:42 PM        12:00                                            None   \n",
              "1      8:42 PM        12:00  Jump Ball Kuminga vs. Jackson Jr.: Tip to Bane   \n",
              "2      8:42 PM        11:34                                            None   \n",
              "3      8:42 PM        11:18                 Green Bad Pass Turnover (P1.T1)   \n",
              "4      8:42 PM        11:12                                            None   \n",
              "\n",
              "                  NEUTRALDESCRIPTION  \\\n",
              "0  Start of 1st Period (8:42 PM EST)   \n",
              "1                               None   \n",
              "2                               None   \n",
              "3                               None   \n",
              "4                               None   \n",
              "\n",
              "                                  VISITORDESCRIPTION  SCORE SCOREMARGIN  \n",
              "0                                               None   None        None  \n",
              "1                                               None   None        None  \n",
              "2  Williams 29' 3PT Jump Shot (3 PTS) (Morant 1 AST)  3 - 0          -3  \n",
              "3                               Morant STEAL (1 STL)   None        None  \n",
              "4          MISS Jackson Jr. 26' 3PT Pullup Jump Shot   None        None  "
            ],
            "text/html": [
              "\n",
              "  <div id=\"df-6c80aedd-12b0-4b6b-8672-e4b7dfbec986\">\n",
              "    <div class=\"colab-df-container\">\n",
              "      <div>\n",
              "<style scoped>\n",
              "    .dataframe tbody tr th:only-of-type {\n",
              "        vertical-align: middle;\n",
              "    }\n",
              "\n",
              "    .dataframe tbody tr th {\n",
              "        vertical-align: top;\n",
              "    }\n",
              "\n",
              "    .dataframe thead th {\n",
              "        text-align: right;\n",
              "    }\n",
              "</style>\n",
              "<table border=\"1\" class=\"dataframe\">\n",
              "  <thead>\n",
              "    <tr style=\"text-align: right;\">\n",
              "      <th></th>\n",
              "      <th>GAME_ID</th>\n",
              "      <th>EVENTNUM</th>\n",
              "      <th>EVENTMSGTYPE</th>\n",
              "      <th>EVENTMSGACTIONTYPE</th>\n",
              "      <th>PERIOD</th>\n",
              "      <th>WCTIMESTRING</th>\n",
              "      <th>PCTIMESTRING</th>\n",
              "      <th>HOMEDESCRIPTION</th>\n",
              "      <th>NEUTRALDESCRIPTION</th>\n",
              "      <th>VISITORDESCRIPTION</th>\n",
              "      <th>SCORE</th>\n",
              "      <th>SCOREMARGIN</th>\n",
              "    </tr>\n",
              "  </thead>\n",
              "  <tbody>\n",
              "    <tr>\n",
              "      <th>0</th>\n",
              "      <td>0042100233</td>\n",
              "      <td>2</td>\n",
              "      <td>12</td>\n",
              "      <td>0</td>\n",
              "      <td>1</td>\n",
              "      <td>8:42 PM</td>\n",
              "      <td>12:00</td>\n",
              "      <td>None</td>\n",
              "      <td>Start of 1st Period (8:42 PM EST)</td>\n",
              "      <td>None</td>\n",
              "      <td>None</td>\n",
              "      <td>None</td>\n",
              "    </tr>\n",
              "    <tr>\n",
              "      <th>1</th>\n",
              "      <td>0042100233</td>\n",
              "      <td>4</td>\n",
              "      <td>10</td>\n",
              "      <td>0</td>\n",
              "      <td>1</td>\n",
              "      <td>8:42 PM</td>\n",
              "      <td>12:00</td>\n",
              "      <td>Jump Ball Kuminga vs. Jackson Jr.: Tip to Bane</td>\n",
              "      <td>None</td>\n",
              "      <td>None</td>\n",
              "      <td>None</td>\n",
              "      <td>None</td>\n",
              "    </tr>\n",
              "    <tr>\n",
              "      <th>2</th>\n",
              "      <td>0042100233</td>\n",
              "      <td>7</td>\n",
              "      <td>1</td>\n",
              "      <td>1</td>\n",
              "      <td>1</td>\n",
              "      <td>8:42 PM</td>\n",
              "      <td>11:34</td>\n",
              "      <td>None</td>\n",
              "      <td>None</td>\n",
              "      <td>Williams 29' 3PT Jump Shot (3 PTS) (Morant 1 AST)</td>\n",
              "      <td>3 - 0</td>\n",
              "      <td>-3</td>\n",
              "    </tr>\n",
              "    <tr>\n",
              "      <th>3</th>\n",
              "      <td>0042100233</td>\n",
              "      <td>9</td>\n",
              "      <td>5</td>\n",
              "      <td>1</td>\n",
              "      <td>1</td>\n",
              "      <td>8:42 PM</td>\n",
              "      <td>11:18</td>\n",
              "      <td>Green Bad Pass Turnover (P1.T1)</td>\n",
              "      <td>None</td>\n",
              "      <td>Morant STEAL (1 STL)</td>\n",
              "      <td>None</td>\n",
              "      <td>None</td>\n",
              "    </tr>\n",
              "    <tr>\n",
              "      <th>4</th>\n",
              "      <td>0042100233</td>\n",
              "      <td>11</td>\n",
              "      <td>2</td>\n",
              "      <td>79</td>\n",
              "      <td>1</td>\n",
              "      <td>8:42 PM</td>\n",
              "      <td>11:12</td>\n",
              "      <td>None</td>\n",
              "      <td>None</td>\n",
              "      <td>MISS Jackson Jr. 26' 3PT Pullup Jump Shot</td>\n",
              "      <td>None</td>\n",
              "      <td>None</td>\n",
              "    </tr>\n",
              "  </tbody>\n",
              "</table>\n",
              "</div>\n",
              "      <button class=\"colab-df-convert\" onclick=\"convertToInteractive('df-6c80aedd-12b0-4b6b-8672-e4b7dfbec986')\"\n",
              "              title=\"Convert this dataframe to an interactive table.\"\n",
              "              style=\"display:none;\">\n",
              "        \n",
              "  <svg xmlns=\"http://www.w3.org/2000/svg\" height=\"24px\"viewBox=\"0 0 24 24\"\n",
              "       width=\"24px\">\n",
              "    <path d=\"M0 0h24v24H0V0z\" fill=\"none\"/>\n",
              "    <path d=\"M18.56 5.44l.94 2.06.94-2.06 2.06-.94-2.06-.94-.94-2.06-.94 2.06-2.06.94zm-11 1L8.5 8.5l.94-2.06 2.06-.94-2.06-.94L8.5 2.5l-.94 2.06-2.06.94zm10 10l.94 2.06.94-2.06 2.06-.94-2.06-.94-.94-2.06-.94 2.06-2.06.94z\"/><path d=\"M17.41 7.96l-1.37-1.37c-.4-.4-.92-.59-1.43-.59-.52 0-1.04.2-1.43.59L10.3 9.45l-7.72 7.72c-.78.78-.78 2.05 0 2.83L4 21.41c.39.39.9.59 1.41.59.51 0 1.02-.2 1.41-.59l7.78-7.78 2.81-2.81c.8-.78.8-2.07 0-2.86zM5.41 20L4 18.59l7.72-7.72 1.47 1.35L5.41 20z\"/>\n",
              "  </svg>\n",
              "      </button>\n",
              "      \n",
              "  <style>\n",
              "    .colab-df-container {\n",
              "      display:flex;\n",
              "      flex-wrap:wrap;\n",
              "      gap: 12px;\n",
              "    }\n",
              "\n",
              "    .colab-df-convert {\n",
              "      background-color: #E8F0FE;\n",
              "      border: none;\n",
              "      border-radius: 50%;\n",
              "      cursor: pointer;\n",
              "      display: none;\n",
              "      fill: #1967D2;\n",
              "      height: 32px;\n",
              "      padding: 0 0 0 0;\n",
              "      width: 32px;\n",
              "    }\n",
              "\n",
              "    .colab-df-convert:hover {\n",
              "      background-color: #E2EBFA;\n",
              "      box-shadow: 0px 1px 2px rgba(60, 64, 67, 0.3), 0px 1px 3px 1px rgba(60, 64, 67, 0.15);\n",
              "      fill: #174EA6;\n",
              "    }\n",
              "\n",
              "    [theme=dark] .colab-df-convert {\n",
              "      background-color: #3B4455;\n",
              "      fill: #D2E3FC;\n",
              "    }\n",
              "\n",
              "    [theme=dark] .colab-df-convert:hover {\n",
              "      background-color: #434B5C;\n",
              "      box-shadow: 0px 1px 3px 1px rgba(0, 0, 0, 0.15);\n",
              "      filter: drop-shadow(0px 1px 2px rgba(0, 0, 0, 0.3));\n",
              "      fill: #FFFFFF;\n",
              "    }\n",
              "  </style>\n",
              "\n",
              "      <script>\n",
              "        const buttonEl =\n",
              "          document.querySelector('#df-6c80aedd-12b0-4b6b-8672-e4b7dfbec986 button.colab-df-convert');\n",
              "        buttonEl.style.display =\n",
              "          google.colab.kernel.accessAllowed ? 'block' : 'none';\n",
              "\n",
              "        async function convertToInteractive(key) {\n",
              "          const element = document.querySelector('#df-6c80aedd-12b0-4b6b-8672-e4b7dfbec986');\n",
              "          const dataTable =\n",
              "            await google.colab.kernel.invokeFunction('convertToInteractive',\n",
              "                                                     [key], {});\n",
              "          if (!dataTable) return;\n",
              "\n",
              "          const docLinkHtml = 'Like what you see? Visit the ' +\n",
              "            '<a target=\"_blank\" href=https://colab.research.google.com/notebooks/data_table.ipynb>data table notebook</a>'\n",
              "            + ' to learn more about interactive tables.';\n",
              "          element.innerHTML = '';\n",
              "          dataTable['output_type'] = 'display_data';\n",
              "          await google.colab.output.renderOutput(dataTable, element);\n",
              "          const docLink = document.createElement('div');\n",
              "          docLink.innerHTML = docLinkHtml;\n",
              "          element.appendChild(docLink);\n",
              "        }\n",
              "      </script>\n",
              "    </div>\n",
              "  </div>\n",
              "  "
            ]
          },
          "metadata": {},
          "execution_count": 200
        }
      ]
    },
    {
      "cell_type": "markdown",
      "source": [
        "So as you can see, a snapshot of the game gets recorded here during every play. and one of the fields is score which shows both teams score and also the scoremargin which will be the column we focus on"
      ],
      "metadata": {
        "id": "4NO8LiDeIlIW"
      }
    },
    {
      "cell_type": "markdown",
      "source": [
        "There's some clear issues here, for one on plays where there is no change in score we get a **'NONE'** value which really clutters our results, and for when both teams have the same score instead of the score margin being 0 it's recorded as **'TIE'** so we'll have to cleanup and reformat that data a little bit before continuting."
      ],
      "metadata": {
        "id": "PrZHYkBUIz0O"
      }
    },
    {
      "cell_type": "code",
      "source": [
        "arr = [[],[],[],[]]\n",
        "margins =pbp['SCOREMARGIN'].to_dict()\n",
        "quarters = pbp['PERIOD'].to_dict()\n",
        "for key in margins:\n",
        "  if(margins[key] != None):\n",
        "    if(margins[key] != 'TIE'):\n",
        "      arr[(int(quarters[key]) - 1)] .append(int(margins[key]))\n",
        "    else: \n",
        "      arr[(int(quarters[key]) - 1)] .append(0)"
      ],
      "metadata": {
        "id": "0p3-bJhOLHKs"
      },
      "execution_count": 179,
      "outputs": []
    },
    {
      "cell_type": "markdown",
      "source": [
        "So heres my hacked together not verry efficent way to do this. I create a 4 dimensional array, one dimension for each quarter, just because I want the quarters in different colors and then maybe later I can run analytics seperately on each quarter.\n",
        "\n",
        "then I pull the margins and the quarters into dicts, I don't know many, it's the best way I dfound to parse through the data frame from pandas, I'm not very good with pandas and this is the best I could come up with.\n",
        "\n",
        "In the loop I go through and add the appropriate score margin value based on its quarter, skip it if its **none** and add 0 if its **tie**\n",
        "\n",
        "So now I have a 4 dimensional array with all the score margins, let;'s checkout a graph.\n",
        "\n",
        "oh and yes I know I named my array arr, I started using it as a testing variable and now it's too late to change it. generic name it is."
      ],
      "metadata": {
        "id": "n4RW2bcudV8t"
      }
    },
    {
      "cell_type": "code",
      "source": [
        "plt.figure(figsize=(25, 3)) \n",
        "plt.title('GSW vs Grizzlies Game 3')\n",
        "plt.bar(range(0,len(arr[0])), arr[0], width=0.8,align='edge', edgecolor='black')\n",
        "plt.bar(range(len(arr[0]), len(arr[0]) + len(arr[1])), arr[1], width=0.8,align='edge', edgecolor='black')\n",
        "plt.bar(range(len(arr[0]) + len(arr[1]), len(arr[0]) + len(arr[1]) + len(arr[2])), arr[2], width=0.8,align='edge', edgecolor='black')\n",
        "plt.bar(range(len(arr[0]) + len(arr[1]) + len(arr[2]), len(arr[0]) + len(arr[1]) + len(arr[2]) + len(arr[3]) ), arr[3], width=0.8,align='edge', edgecolor='black')\n",
        "plt.show()"
      ],
      "metadata": {
        "colab": {
          "base_uri": "https://localhost:8080/",
          "height": 227
        },
        "id": "gpExuhCXYBBT",
        "outputId": "fa36c138-cc80-4ba8-f29c-3168d247a67b"
      },
      "execution_count": 181,
      "outputs": [
        {
          "output_type": "display_data",
          "data": {
            "text/plain": [
              "<Figure size 1800x216 with 1 Axes>"
            ],
            "image/png": "[encoded data removed]"
          },
          "metadata": {
            "needs_background": "light"
          }
        }
      ]
    },
    {
      "cell_type": "markdown",
      "source": [
        "Beautiful isn't she? each quarter is a different color, and you can clearly see when the warriors were up and when the warriors were down. Now my next steps would be making this into a generic function and passing in all the game Id's for all the warriors playoff games."
      ],
      "metadata": {
        "id": "U23lX2MgeGax"
      }
    },
    {
      "cell_type": "code",
      "source": [
        "def make_scores_array(Game_Id):\n",
        "  pbp =playbyplay.PlayByPlay(Game_Id).get_data_frames()[0]\n",
        "  arr = [[],[],[],[]]\n",
        "  margins =pbp['SCOREMARGIN'].to_dict()\n",
        "  quarters = pbp['PERIOD'].to_dict()\n",
        "  for key in margins:\n",
        "    if(margins[key] != None):\n",
        "      if(margins[key] != 'TIE'):\n",
        "        arr[(int(quarters[key]) - 1)] .append(int(margins[key]))\n",
        "      else: \n",
        "        arr[(int(quarters[key]) - 1)] .append(0)\n",
        "  return arr"
      ],
      "metadata": {
        "id": "EMkH72pPeXoe"
      },
      "execution_count": 182,
      "outputs": []
    },
    {
      "cell_type": "markdown",
      "source": [
        "I'm making the array and the graphing two seperate functions because after we have the array we might want to do some analysis on it and what not, plus then I can graph them all at once and look pretty."
      ],
      "metadata": {
        "id": "SYRT9dWRfJIS"
      }
    },
    {
      "cell_type": "code",
      "source": [
        "def graph_game_by_array(arr, title):\n",
        "  plt.figure(figsize=(25, 3)) \n",
        "  plt.title(title)\n",
        "  plt.bar(range(0,len(arr[0])), arr[0], width=0.8,align='edge', edgecolor='black')\n",
        "  plt.bar(range(len(arr[0]), len(arr[0]) + len(arr[1])), arr[1], width=0.8,align='edge', edgecolor='black')\n",
        "  plt.bar(range(len(arr[0]) + len(arr[1]), len(arr[0]) + len(arr[1]) + len(arr[2])), arr[2], width=0.8,align='edge', edgecolor='black')\n",
        "  plt.bar(range(len(arr[0]) + len(arr[1]) + len(arr[2]), len(arr[0]) + len(arr[1]) + len(arr[2]) + len(arr[3]) ), arr[3], width=0.8,align='edge', edgecolor='black')\n",
        "  plt.show()"
      ],
      "metadata": {
        "id": "2OTZBiwifSkO"
      },
      "execution_count": 201,
      "outputs": []
    },
    {
      "cell_type": "markdown",
      "source": [
        "let's test it out!"
      ],
      "metadata": {
        "id": "eZAWv5vBfa-h"
      }
    },
    {
      "cell_type": "code",
      "source": [
        "game_ids = GSW_Games['GAME_ID'].to_dict()"
      ],
      "metadata": {
        "id": "-PWBOYuGf5hp"
      },
      "execution_count": 191,
      "outputs": []
    },
    {
      "cell_type": "markdown",
      "source": [
        "So now if we wanted to get just the array for a specific game we could call `Game1 = make_scores_array[0]` and we can do all our numerical analysis"
      ],
      "metadata": {
        "id": "OYWP7mvggIjn"
      }
    },
    {
      "cell_type": "markdown",
      "source": [
        "Right now I don't particularly care for numerical analysys, I want to see the graphs. Now it has come to my attention that graphs need titles, so i'm going to pull the matchup title and date from the game data frame, maybe theres a way to format it nicely but thats for another time."
      ],
      "metadata": {
        "id": "pX2AHGi-laJy"
      }
    },
    {
      "cell_type": "code",
      "source": [
        "game_dates = GSW_Games[\"GAME_DATE\"].to_dict()\n",
        "game_matchups = GSW_Games[\"MATCHUP\"].to_dict()"
      ],
      "metadata": {
        "id": "VR1nN2KxmEaL"
      },
      "execution_count": 207,
      "outputs": []
    },
    {
      "cell_type": "markdown",
      "source": [
        "Now is finally the moment we've all ben waiting for. Let's pull up all the graphs for the warriors playoffs this season\n"
      ],
      "metadata": {
        "id": "6BfyvG2qn_US"
      }
    },
    {
      "cell_type": "code",
      "source": [
        "for i in range(0, 9):\n",
        "  graph_game_by_array(make_scores_array(game_ids[i]), (game_dates[i] + \" : \" + game_matchups[i]))"
      ],
      "metadata": {
        "colab": {
          "base_uri": "https://localhost:8080/",
          "height": 1000
        },
        "id": "_Ou3RqEimZ3c",
        "outputId": "3335dd60-04ab-4edc-ccea-0b41fbde5e70"
      },
      "execution_count": 213,
      "outputs": [
        {
          "output_type": "display_data",
          "data": {
            "text/plain": [
              "<Figure size 1800x216 with 1 Axes>"
            ],
            "image/png": "[encoded data removed]"
          },
          "metadata": {
            "needs_background": "light"
          }
        },
        {
          "output_type": "display_data",
          "data": {
            "text/plain": [
              "<Figure size 1800x216 with 1 Axes>"
            ],
            "image/png": "[encoded data removed]"
          },
          "metadata": {
            "needs_background": "light"
          }
        },
        {
          "output_type": "display_data",
          "data": {
            "text/plain": [
              "<Figure size 1800x216 with 1 Axes>"
            ],
            "image/png": "[encoded data removed]"
          },
          "metadata": {
            "needs_background": "light"
          }
        },
        {
          "output_type": "display_data",
          "data": {
            "text/plain": [
              "<Figure size 1800x216 with 1 Axes>"
            ],
            "image/png": "[encoded data removed]"
          },
          "metadata": {
            "needs_background": "light"
          }
        },
        {
          "output_type": "display_data",
          "data": {
            "text/plain": [
              "<Figure size 1800x216 with 1 Axes>"
            ],
            "image/png": "[encoded data removed]"
          },
          "metadata": {
            "needs_background": "light"
          }
        },
        {
          "output_type": "display_data",
          "data": {
            "text/plain": [
              "<Figure size 1800x216 with 1 Axes>"
            ],
            "image/png": "[encoded data removed]"
          },
          "metadata": {
            "needs_background": "light"
          }
        },
        {
          "output_type": "display_data",
          "data": {
            "text/plain": [
              "<Figure size 1800x216 with 1 Axes>"
            ],
            "image/png": "[encoded data removed]"
          },
          "metadata": {
            "needs_background": "light"
          }
        },
        {
          "output_type": "display_data",
          "data": {
            "text/plain": [
              "<Figure size 1800x216 with 1 Axes>"
            ],
            "image/png": "[encoded data removed]"
          },
          "metadata": {
            "needs_background": "light"
          }
        },
        {
          "output_type": "display_data",
          "data": {
            "text/plain": [
              "<Figure size 1800x216 with 1 Axes>"
            ],
            "image/png": "[encoded data removed]"
          },
          "metadata": {
            "needs_background": "light"
          }
        }
      ]
    },
    {
      "cell_type": "markdown",
      "source": [
        "Amazing. So are the warriors a 4th quarter team? what do you think? what do you think of the data? what are more things I should analyze with this? let me know at hadar.goldstein@gmail.com"
      ],
      "metadata": {
        "id": "wob0h2sFoNeh"
      }
    }
  ]
}